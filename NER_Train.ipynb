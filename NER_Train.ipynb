{
  "nbformat": 4,
  "nbformat_minor": 0,
  "metadata": {
    "colab": {
      "provenance": []
    },
    "kernelspec": {
      "name": "python3",
      "display_name": "Python 3"
    },
    "language_info": {
      "name": "python"
    }
  },
  "cells": [
    {
      "cell_type": "code",
      "execution_count": 21,
      "metadata": {
        "id": "2-qEG3PJFKdj"
      },
      "outputs": [],
      "source": [
        "import pandas as pd"
      ]
    },
    {
      "cell_type": "code",
      "source": [
        "text = open('data.txt').read()"
      ],
      "metadata": {
        "id": "0NnbuyIvFX97"
      },
      "execution_count": 8,
      "outputs": []
    },
    {
      "cell_type": "code",
      "source": [
        "import json\n",
        "import spacy"
      ],
      "metadata": {
        "id": "vuZxtpdkFyCx"
      },
      "execution_count": 22,
      "outputs": []
    },
    {
      "cell_type": "code",
      "source": [
        "with open('ner.json') as fp:\n",
        "  training_data = json.load(fp)"
      ],
      "metadata": {
        "id": "0LjxS67oIiZl"
      },
      "execution_count": 28,
      "outputs": []
    },
    {
      "cell_type": "code",
      "source": [
        "train = training_data['annotations']"
      ],
      "metadata": {
        "id": "_qxPmPggIt5d"
      },
      "execution_count": 53,
      "outputs": []
    },
    {
      "cell_type": "code",
      "source": [
        "train"
      ],
      "metadata": {
        "colab": {
          "base_uri": "https://localhost:8080/"
        },
        "id": "PLEJVo2Svzb6",
        "outputId": "2bd400e8-316f-46e9-b959-a0563f26113d"
      },
      "execution_count": 54,
      "outputs": [
        {
          "output_type": "execute_result",
          "data": {
            "text/plain": [
              "[['The retail arm of Reliance Industries Ltd Wednesday announced that Qatar’s sovereign wealth fund would invest Rs 8,278 crore in the company for a 0.99 per cent stake.The investment by Qatar Investment Authority (QIA) values Reliance Retail Ventures Ltd (RRVL) at a pre-money valuation of Rs 8.278 lakh crore, the company said in a release, making it among the country’s top four companies by equity value.We look forward to benefiting from QIA’s global experience and strong track record of value creation as we further develop RRVL into a world class institution, driving transformation of the Indian retail sector. The investment by QIA is a strong endorsement of a positive outlook towards the Indian economy and Reliance’s retail business model, strategy and execution capabilities,” said Isha Ambani, Director, RRVL.',\n",
              "  {'entities': [[18, 41, 'COMPANY'],\n",
              "    [42, 51, 'DAY'],\n",
              "    [110, 124, 'MONEY'],\n",
              "    [146, 159, 'PERCENT'],\n",
              "    [224, 252, 'COMPANY'],\n",
              "    [288, 307, 'MONEY'],\n",
              "    [793, 804, 'PERSON']]}]]"
            ]
          },
          "metadata": {},
          "execution_count": 54
        }
      ]
    },
    {
      "cell_type": "code",
      "source": [
        "nlp = spacy.load('en_core_web_sm')\n",
        "nlp.pipe_names"
      ],
      "metadata": {
        "colab": {
          "base_uri": "https://localhost:8080/"
        },
        "id": "TRf4SsIzL_XC",
        "outputId": "6fe7a139-cab4-428c-da8f-a35c028ea1f4"
      },
      "execution_count": 40,
      "outputs": [
        {
          "output_type": "execute_result",
          "data": {
            "text/plain": [
              "['tok2vec', 'tagger', 'parser', 'attribute_ruler', 'lemmatizer', 'ner']"
            ]
          },
          "metadata": {},
          "execution_count": 40
        }
      ]
    },
    {
      "cell_type": "code",
      "source": [
        "ner = nlp.get_pipe('ner')"
      ],
      "metadata": {
        "id": "iED7HPGcvNJW"
      },
      "execution_count": 41,
      "outputs": []
    },
    {
      "cell_type": "code",
      "source": [
        "for _,annotation in train:\n",
        "  for ent in annotation.get('entities'):\n",
        "    ner.add_label(ent[2])"
      ],
      "metadata": {
        "id": "RntbYpbdvqjo"
      },
      "execution_count": 56,
      "outputs": []
    },
    {
      "cell_type": "code",
      "source": [
        "disable_pipes = [pipe for pipe in nlp.pipe_names if pipe!='ner']"
      ],
      "metadata": {
        "id": "qFNPTs25v5r_"
      },
      "execution_count": 58,
      "outputs": []
    },
    {
      "cell_type": "code",
      "source": [
        "disable_pipes"
      ],
      "metadata": {
        "colab": {
          "base_uri": "https://localhost:8080/"
        },
        "id": "VXBnWV6awjkN",
        "outputId": "1cdfd717-4ca7-48f6-fc34-2e24f2323a16"
      },
      "execution_count": 59,
      "outputs": [
        {
          "output_type": "execute_result",
          "data": {
            "text/plain": [
              "['tok2vec', 'tagger', 'parser', 'attribute_ruler', 'lemmatizer']"
            ]
          },
          "metadata": {},
          "execution_count": 59
        }
      ]
    },
    {
      "cell_type": "code",
      "source": [
        "import random\n",
        "from spacy.util import minibatch , compounding\n",
        "from pathlib import Path"
      ],
      "metadata": {
        "id": "ekDjYSJtw0vZ"
      },
      "execution_count": 60,
      "outputs": []
    },
    {
      "cell_type": "code",
      "source": [
        "nlp.update()"
      ],
      "metadata": {
        "id": "K3iMCgcazL4q"
      },
      "execution_count": null,
      "outputs": []
    },
    {
      "cell_type": "code",
      "source": [
        "from spacy.training.example import Example"
      ],
      "metadata": {
        "id": "M9tu4HFZ0YJ-"
      },
      "execution_count": 69,
      "outputs": []
    },
    {
      "cell_type": "code",
      "source": [
        "with nlp.disable_pipes(*disable_pipes):\n",
        "  optimizer = nlp.resume_training()\n",
        "\n",
        "  for iteration in range(100):\n",
        "    random.shuffle(train)\n",
        "    losses = {}\n",
        "\n",
        "    batches = minibatch(train, size=compounding(1.0, 4.0, 1.001))\n",
        "    for batch in batches:\n",
        "        examples = []\n",
        "        for text, annotation in batch:\n",
        "            example = Example.from_dict(nlp.make_doc(text), annotation)\n",
        "            examples.append(example)\n",
        "\n",
        "        # Update the model with the batch data.\n",
        "        nlp.update(\n",
        "            examples,\n",
        "            drop=0.5,\n",
        "            losses=losses,\n",
        "            sgd=optimizer\n",
        "        )\n",
        "    # Print losses after processing each batch.\n",
        "    print(\"Iteration\", iteration + 1)\n",
        "    print(\"Losses\", losses)"
      ],
      "metadata": {
        "id": "QKVOD4CWxX6P"
      },
      "execution_count": null,
      "outputs": []
    },
    {
      "cell_type": "code",
      "source": [
        "for text,_ in train:\n",
        "  doc = nlp(text)\n",
        "  print('Entities',[(ent.text,ent.label_) for ent in doc.ents])"
      ],
      "metadata": {
        "colab": {
          "base_uri": "https://localhost:8080/"
        },
        "id": "jAEjIv6iyajP",
        "outputId": "4f44be0b-7c34-47f0-e03f-beee2daff3d1"
      },
      "execution_count": 75,
      "outputs": [
        {
          "output_type": "stream",
          "name": "stdout",
          "text": [
            "Entities [('Reliance Industries Ltd', 'COMPANY'), ('Wednesday', 'DAY'), ('Rs 8,278 crore', 'MONEY'), ('0.99 per cent', 'PERCENT'), ('Reliance Retail Ventures Ltd', 'COMPANY'), ('Rs 8.278 lakh crore', 'MONEY'), ('Isha Ambani', 'PERSON')]\n"
          ]
        }
      ]
    },
    {
      "cell_type": "code",
      "source": [],
      "metadata": {
        "id": "54KkXUnc2xfU"
      },
      "execution_count": null,
      "outputs": []
    }
  ]
}